{
 "cells": [
  {
   "cell_type": "code",
   "execution_count": 1,
   "metadata": {
    "ExecuteTime": {
     "end_time": "2019-05-15T14:25:08.334088Z",
     "start_time": "2019-05-15T14:25:08.330629Z"
    }
   },
   "outputs": [],
   "source": [
    "import numpy as np"
   ]
  },
  {
   "cell_type": "code",
   "execution_count": 2,
   "metadata": {},
   "outputs": [
    {
     "data": {
      "text/plain": [
       "'C:\\\\Users\\\\Omistaja\\\\Downloads'"
      ]
     },
     "execution_count": 2,
     "metadata": {},
     "output_type": "execute_result"
    }
   ],
   "source": [
    "pwd"
   ]
  },
  {
   "cell_type": "markdown",
   "metadata": {},
   "source": [
    "## Defining the generic metrics class"
   ]
  },
  {
   "cell_type": "code",
   "execution_count": 17,
   "metadata": {
    "ExecuteTime": {
     "end_time": "2019-05-15T14:25:08.357613Z",
     "start_time": "2019-05-15T14:25:08.342547Z"
    },
    "code_folding": []
   },
   "outputs": [],
   "source": [
    "class GeneralModelClass:\n",
    "    \n",
    "    # Where k∗ is the numbers of parameters you're estimating INCLUDING an intercept. \n",
    "    #(The residual vector will exist in an n−k∗ dimensional linear space.)\n",
    "\n",
    "    # If you include an intercept term in a regression and k refers to the number of regressors\n",
    "    # not including the intercept then k∗=k+1.\n",
    "         \n",
    "    def sse(self):\n",
    "        '''returns sum of squared errors (model vs actual)'''\n",
    "        squared_errors = (self.target - self.predict(self.data)) ** 2\n",
    "        self.sq_error_ = np.sum(squared_errors)\n",
    "        return self.sq_error_\n",
    "        \n",
    "    def sst(self):\n",
    "        '''returns total sum of squared errors (actual vs avg(actual))'''\n",
    "        avg_y = np.mean(self.target)\n",
    "        squared_errors = (self.target - avg_y) ** 2\n",
    "        self.sst_ = np.sum(squared_errors)\n",
    "        return self.sst_\n",
    "    \n",
    "    def r_squared(self):\n",
    "        '''returns calculated value of r^2'''\n",
    "        self.r_sq_ = 1 - self.sse()/self.sst()\n",
    "        return self.r_sq_\n",
    "    \n",
    "    def adj_r_squared(self):\n",
    "        '''returns calculated value of adjusted r^2'''\n",
    "        self.adj_r_sq_ = 1 - (self.sse()/self._dfe) / (self.sst()/self._dft)\n",
    "        return self.adj_r_sq_\n",
    "    \n",
    "    def rmse(self):\n",
    "        '''returns calculated value of mse'''\n",
    "        # using predict, data and target, find the RMSE error\n",
    "        self.mse_ =np.sqrt( np.mean( (self.predict(self.data) - self.target) ** 2 ))\n",
    "        return self.mse_\n",
    "    \n",
    "    def pretty_print_stats(self):\n",
    "        '''returns report of statistics for a given model object'''\n",
    "        items = ( ('sse:',self.sse()),('sst:',self.sst()),('rmse:', self.rmse()), ('r^2:', self.r_squared()), \n",
    "                  ('adj_r^2:', self.adj_r_squared()))\n",
    "        for item in items:\n",
    "            print('{0:8} {1:.4f}'.format(item[0], item[1]))\n"
   ]
  },
  {
   "cell_type": "markdown",
   "metadata": {},
   "source": [
    "## Defining the Linear Regression Class"
   ]
  },
  {
   "cell_type": "code",
   "execution_count": 18,
   "metadata": {
    "ExecuteTime": {
     "end_time": "2019-05-15T14:25:08.379007Z",
     "start_time": "2019-05-15T14:25:08.365241Z"
    },
    "code_folding": []
   },
   "outputs": [],
   "source": [
    "# only makes sense for Linear Regression https://stats.stackexchange.com/questions/23128/solving-for-regression-parameters-in-closed-form-vs-gradient-descent\n",
    "class LinearRegression_(GeneralModelClass):\n",
    "    \n",
    "    \n",
    "    def __init__(self, fit_intercept=True):\n",
    "        self.coef_ = None\n",
    "        self.intercept_ = None\n",
    "        self._fit_intercept = fit_intercept\n",
    "          \n",
    "        \n",
    "    def fit(self, X, y):\n",
    "        \"\"\"\n",
    "        Fit model coefficients.\n",
    "\n",
    "        Arguments:\n",
    "        X: 1D or 2D numpy array \n",
    "        y: 1D numpy array\n",
    "        \"\"\"\n",
    "         #degrees of freedom population dep. variable variance -- this is total amount of degrees\n",
    "        self._dft = X.shape[0] - 1   \n",
    "        # degrees of freedom for the residuals\n",
    "        self._dfe = X.shape[0] - X.shape[1] - 1  # the more independent variables, the less adj_R-sq\n",
    "        \n",
    "        # training data & ground truth data\n",
    "        self.data = X\n",
    "        self.target = y\n",
    "                \n",
    "        # check if X is 1D or 2D array\n",
    "        if len(X.shape) == 1:\n",
    "            X = X.reshape(-1,1)\n",
    "            \n",
    "        # add bias if fit_intercept\n",
    "        if self._fit_intercept:\n",
    "            X = np.c_[np.ones(X.shape[0]), X]\n",
    "        \n",
    "        # closed form solution\n",
    "        xTx = np.dot(X.T, X)# using X transposed and X matrices, find the data covariance matrix (X.T ?operator? X)\n",
    "        inverse_xTx = np.linalg.inv(xTx) # find the inverse of the cov matrix, i.e. the precision matrix\n",
    "        xTy = np.dot(X.T, y) # find X.transposed times y using ?what? operator\n",
    "        coef = np.dot(inverse_xTx, xTy)\n",
    "        \n",
    "        # set attributes\n",
    "        if self._fit_intercept:\n",
    "            self.intercept_ = coef[0]\n",
    "            self.coef_ = coef[1:]# the remaining coefficients go here\n",
    "        else:\n",
    "            self.intercept_ = 0 # otherwise set intercept to be 0\n",
    "            self.coef_ = coef\n",
    "            \n",
    "    def predict(self, X):\n",
    "        \"\"\"Output model prediction.\n",
    "\n",
    "        Arguments:\n",
    "        X: 1D or 2D numpy array \n",
    "        \"\"\"\n",
    "        # check if X is 1D or 2D array\n",
    "        if len(X.shape) == 1:\n",
    "            X = X.reshape(-1,1)  # force 1D array into a column vector\n",
    "        return self.intercept_ + np.dot(X, self.coef_)#using intercept, coefficients and X and linear regression formula, find the predictions\n",
    "    \n",
    "    def __str__(self):\n",
    "        return \"Results: b: {}, m: {}, Final Total error: {}\".format(round(self.b, 2), round(self.m, 2), round(self.compute_error(), 2))"
   ]
  },
  {
   "cell_type": "code",
   "execution_count": 5,
   "metadata": {},
   "outputs": [],
   "source": [
    "lr = LinearRegression_()\n",
    "#lr.fit(X_data, y_target)\n",
    "intercept = lr.intercept_\n",
    "parameters = lr.coef_\n",
    "#predictions = lr.predict(X_new_data)"
   ]
  },
  {
   "cell_type": "markdown",
   "metadata": {},
   "source": [
    "## The Problem : Housing Price Prediction"
   ]
  },
  {
   "cell_type": "code",
   "execution_count": null,
   "metadata": {},
   "outputs": [],
   "source": []
  },
  {
   "cell_type": "markdown",
   "metadata": {},
   "source": [
    "### Loading the Dataset"
   ]
  },
  {
   "cell_type": "code",
   "execution_count": 19,
   "metadata": {
    "ExecuteTime": {
     "end_time": "2019-05-15T14:25:08.410264Z",
     "start_time": "2019-05-15T14:25:08.380806Z"
    }
   },
   "outputs": [
    {
     "data": {
      "text/html": [
       "<div>\n",
       "<style scoped>\n",
       "    .dataframe tbody tr th:only-of-type {\n",
       "        vertical-align: middle;\n",
       "    }\n",
       "\n",
       "    .dataframe tbody tr th {\n",
       "        vertical-align: top;\n",
       "    }\n",
       "\n",
       "    .dataframe thead th {\n",
       "        text-align: right;\n",
       "    }\n",
       "</style>\n",
       "<table border=\"1\" class=\"dataframe\">\n",
       "  <thead>\n",
       "    <tr style=\"text-align: right;\">\n",
       "      <th></th>\n",
       "      <th>CRIM</th>\n",
       "      <th>ZN</th>\n",
       "      <th>INDUS</th>\n",
       "      <th>CHAS</th>\n",
       "      <th>NOX</th>\n",
       "      <th>RM</th>\n",
       "      <th>AGE</th>\n",
       "      <th>DIS</th>\n",
       "      <th>RAD</th>\n",
       "      <th>TAX</th>\n",
       "      <th>PTRATIO</th>\n",
       "      <th>B</th>\n",
       "      <th>LSTAT</th>\n",
       "      <th>MEDV</th>\n",
       "    </tr>\n",
       "  </thead>\n",
       "  <tbody>\n",
       "    <tr>\n",
       "      <th>0</th>\n",
       "      <td>0.00632</td>\n",
       "      <td>18.0</td>\n",
       "      <td>2.31</td>\n",
       "      <td>0.0</td>\n",
       "      <td>0.538</td>\n",
       "      <td>6.575</td>\n",
       "      <td>65.2</td>\n",
       "      <td>4.0900</td>\n",
       "      <td>1.0</td>\n",
       "      <td>296.0</td>\n",
       "      <td>15.3</td>\n",
       "      <td>396.90</td>\n",
       "      <td>4.98</td>\n",
       "      <td>24.0</td>\n",
       "    </tr>\n",
       "    <tr>\n",
       "      <th>1</th>\n",
       "      <td>0.02731</td>\n",
       "      <td>0.0</td>\n",
       "      <td>7.07</td>\n",
       "      <td>0.0</td>\n",
       "      <td>0.469</td>\n",
       "      <td>6.421</td>\n",
       "      <td>78.9</td>\n",
       "      <td>4.9671</td>\n",
       "      <td>2.0</td>\n",
       "      <td>242.0</td>\n",
       "      <td>17.8</td>\n",
       "      <td>396.90</td>\n",
       "      <td>9.14</td>\n",
       "      <td>21.6</td>\n",
       "    </tr>\n",
       "    <tr>\n",
       "      <th>2</th>\n",
       "      <td>0.02729</td>\n",
       "      <td>0.0</td>\n",
       "      <td>7.07</td>\n",
       "      <td>0.0</td>\n",
       "      <td>0.469</td>\n",
       "      <td>7.185</td>\n",
       "      <td>61.1</td>\n",
       "      <td>4.9671</td>\n",
       "      <td>2.0</td>\n",
       "      <td>242.0</td>\n",
       "      <td>17.8</td>\n",
       "      <td>392.83</td>\n",
       "      <td>4.03</td>\n",
       "      <td>34.7</td>\n",
       "    </tr>\n",
       "    <tr>\n",
       "      <th>3</th>\n",
       "      <td>0.03237</td>\n",
       "      <td>0.0</td>\n",
       "      <td>2.18</td>\n",
       "      <td>0.0</td>\n",
       "      <td>0.458</td>\n",
       "      <td>6.998</td>\n",
       "      <td>45.8</td>\n",
       "      <td>6.0622</td>\n",
       "      <td>3.0</td>\n",
       "      <td>222.0</td>\n",
       "      <td>18.7</td>\n",
       "      <td>394.63</td>\n",
       "      <td>2.94</td>\n",
       "      <td>33.4</td>\n",
       "    </tr>\n",
       "    <tr>\n",
       "      <th>4</th>\n",
       "      <td>0.06905</td>\n",
       "      <td>0.0</td>\n",
       "      <td>2.18</td>\n",
       "      <td>0.0</td>\n",
       "      <td>0.458</td>\n",
       "      <td>7.147</td>\n",
       "      <td>54.2</td>\n",
       "      <td>6.0622</td>\n",
       "      <td>3.0</td>\n",
       "      <td>222.0</td>\n",
       "      <td>18.7</td>\n",
       "      <td>396.90</td>\n",
       "      <td>5.33</td>\n",
       "      <td>36.2</td>\n",
       "    </tr>\n",
       "  </tbody>\n",
       "</table>\n",
       "</div>"
      ],
      "text/plain": [
       "      CRIM    ZN  INDUS  CHAS    NOX     RM   AGE     DIS  RAD    TAX  \\\n",
       "0  0.00632  18.0   2.31   0.0  0.538  6.575  65.2  4.0900  1.0  296.0   \n",
       "1  0.02731   0.0   7.07   0.0  0.469  6.421  78.9  4.9671  2.0  242.0   \n",
       "2  0.02729   0.0   7.07   0.0  0.469  7.185  61.1  4.9671  2.0  242.0   \n",
       "3  0.03237   0.0   2.18   0.0  0.458  6.998  45.8  6.0622  3.0  222.0   \n",
       "4  0.06905   0.0   2.18   0.0  0.458  7.147  54.2  6.0622  3.0  222.0   \n",
       "\n",
       "   PTRATIO       B  LSTAT  MEDV  \n",
       "0     15.3  396.90   4.98  24.0  \n",
       "1     17.8  396.90   9.14  21.6  \n",
       "2     17.8  392.83   4.03  34.7  \n",
       "3     18.7  394.63   2.94  33.4  \n",
       "4     18.7  396.90   5.33  36.2  "
      ]
     },
     "execution_count": 19,
     "metadata": {},
     "output_type": "execute_result"
    }
   ],
   "source": [
    "from sklearn.datasets import load_boston\n",
    "import pandas as pd\n",
    "boston_dataset = load_boston()\n",
    "boston = pd.DataFrame(boston_dataset.data, columns=boston_dataset.feature_names)\n",
    "boston['MEDV'] = boston_dataset.target\n",
    "boston.head()"
   ]
  },
  {
   "cell_type": "markdown",
   "metadata": {},
   "source": [
    "### Understanding the Data using Metadata"
   ]
  },
  {
   "cell_type": "code",
   "execution_count": 20,
   "metadata": {
    "ExecuteTime": {
     "end_time": "2019-05-15T14:25:08.415234Z",
     "start_time": "2019-05-15T14:25:08.411896Z"
    }
   },
   "outputs": [
    {
     "name": "stdout",
     "output_type": "stream",
     "text": [
      "Boston House Prices dataset\n",
      "===========================\n",
      "\n",
      "Notes\n",
      "------\n",
      "Data Set Characteristics:  \n",
      "\n",
      "    :Number of Instances: 506 \n",
      "\n",
      "    :Number of Attributes: 13 numeric/categorical predictive\n",
      "    \n",
      "    :Median Value (attribute 14) is usually the target\n",
      "\n",
      "    :Attribute Information (in order):\n",
      "        - CRIM     per capita crime rate by town\n",
      "        - ZN       proportion of residential land zoned for lots over 25,000 sq.ft.\n",
      "        - INDUS    proportion of non-retail business acres per town\n",
      "        - CHAS     Charles River dummy variable (= 1 if tract bounds river; 0 otherwise)\n",
      "        - NOX      nitric oxides concentration (parts per 10 million)\n",
      "        - RM       average number of rooms per dwelling\n",
      "        - AGE      proportion of owner-occupied units built prior to 1940\n",
      "        - DIS      weighted distances to five Boston employment centres\n",
      "        - RAD      index of accessibility to radial highways\n",
      "        - TAX      full-value property-tax rate per $10,000\n",
      "        - PTRATIO  pupil-teacher ratio by town\n",
      "        - B        1000(Bk - 0.63)^2 where Bk is the proportion of blacks by town\n",
      "        - LSTAT    % lower status of the population\n",
      "        - MEDV     Median value of owner-occupied homes in $1000's\n",
      "\n",
      "    :Missing Attribute Values: None\n",
      "\n",
      "    :Creator: Harrison, D. and Rubinfeld, D.L.\n",
      "\n",
      "This is a copy of UCI ML housing dataset.\n",
      "http://archive.ics.uci.edu/ml/datasets/Housing\n",
      "\n",
      "\n",
      "This dataset was taken from the StatLib library which is maintained at Carnegie Mellon University.\n",
      "\n",
      "The Boston house-price data of Harrison, D. and Rubinfeld, D.L. 'Hedonic\n",
      "prices and the demand for clean air', J. Environ. Economics & Management,\n",
      "vol.5, 81-102, 1978.   Used in Belsley, Kuh & Welsch, 'Regression diagnostics\n",
      "...', Wiley, 1980.   N.B. Various transformations are used in the table on\n",
      "pages 244-261 of the latter.\n",
      "\n",
      "The Boston house-price data has been used in many machine learning papers that address regression\n",
      "problems.   \n",
      "     \n",
      "**References**\n",
      "\n",
      "   - Belsley, Kuh & Welsch, 'Regression diagnostics: Identifying Influential Data and Sources of Collinearity', Wiley, 1980. 244-261.\n",
      "   - Quinlan,R. (1993). Combining Instance-Based and Model-Based Learning. In Proceedings on the Tenth International Conference of Machine Learning, 236-243, University of Massachusetts, Amherst. Morgan Kaufmann.\n",
      "   - many more! (see http://archive.ics.uci.edu/ml/datasets/Housing)\n",
      "\n"
     ]
    }
   ],
   "source": [
    "print(boston_dataset.DESCR)"
   ]
  },
  {
   "cell_type": "code",
   "execution_count": 21,
   "metadata": {
    "ExecuteTime": {
     "end_time": "2019-05-15T14:25:08.422409Z",
     "start_time": "2019-05-15T14:25:08.416771Z"
    }
   },
   "outputs": [
    {
     "data": {
      "text/plain": [
       "CRIM       0\n",
       "ZN         0\n",
       "INDUS      0\n",
       "CHAS       0\n",
       "NOX        0\n",
       "RM         0\n",
       "AGE        0\n",
       "DIS        0\n",
       "RAD        0\n",
       "TAX        0\n",
       "PTRATIO    0\n",
       "B          0\n",
       "LSTAT      0\n",
       "MEDV       0\n",
       "dtype: int64"
      ]
     },
     "execution_count": 21,
     "metadata": {},
     "output_type": "execute_result"
    }
   ],
   "source": [
    "# find the sum of null values for each variable\n",
    "boston.isnull().sum()"
   ]
  },
  {
   "cell_type": "markdown",
   "metadata": {},
   "source": [
    "### Visualizing  The Dependent Variable"
   ]
  },
  {
   "cell_type": "code",
   "execution_count": 22,
   "metadata": {
    "ExecuteTime": {
     "end_time": "2019-05-15T14:25:08.636356Z",
     "start_time": "2019-05-15T14:25:08.424085Z"
    },
    "scrolled": true
   },
   "outputs": [
    {
     "data": {
      "text/plain": [
       "<matplotlib.axes._subplots.AxesSubplot at 0x28bb825df60>"
      ]
     },
     "execution_count": 22,
     "metadata": {},
     "output_type": "execute_result"
    },
    {
     "data": {
      "image/png": "[encoded data removed]",
      "text/plain": [
       "<Figure size 842.4x595.44 with 1 Axes>"
      ]
     },
     "metadata": {},
     "output_type": "display_data"
    }
   ],
   "source": [
    "import seaborn as sns\n",
    "import matplotlib.pyplot as plt\n",
    "% matplotlib inline\n",
    "sns.set(rc={'figure.figsize':(11.7,8.27)})\n",
    "# visualize the distribution of the dependent variable (KDE + 30-bin histogram)\n",
    "sns.distplot(boston['MEDV'],kde=True, bins=30)"
   ]
  },
  {
   "cell_type": "markdown",
   "metadata": {},
   "source": [
    "### Visualizing Pairwise Relationships"
   ]
  },
  {
   "cell_type": "code",
   "execution_count": 23,
   "metadata": {
    "ExecuteTime": {
     "end_time": "2019-05-15T14:25:09.766742Z",
     "start_time": "2019-05-15T14:25:09.481905Z"
    }
   },
   "outputs": [
    {
     "data": {
      "image/png": "[encoded data removed]",
      "text/plain": [
       "<Figure size 1440x360 with 2 Axes>"
      ]
     },
     "metadata": {},
     "output_type": "display_data"
    }
   ],
   "source": [
    "plt.figure(figsize=(20, 5))\n",
    "\n",
    "# choose your own custom features here and make subplots to visualize pairwise relationships\n",
    "# alternatively, you may use the pairplot\n",
    "features = ['AGE', 'TAX']\n",
    "target = boston['MEDV']\n",
    "\n",
    "for i, col in enumerate(features):\n",
    "    plt.subplot(1, len(features) , i+1)\n",
    "    x = boston[col]\n",
    "    y = target\n",
    "    plt.scatter(x, y, marker='o')\n",
    "    plt.title(col)\n",
    "    plt.xlabel(col)\n",
    "    plt.ylabel('MEDV')\n",
    "\n"
   ]
  },
  {
   "cell_type": "code",
   "execution_count": 24,
   "metadata": {},
   "outputs": [
    {
     "name": "stdout",
     "output_type": "stream",
     "text": [
      "Index(['CRIM', 'ZN', 'INDUS', 'CHAS', 'NOX', 'RM', 'AGE', 'DIS', 'RAD', 'TAX',\n",
      "       'PTRATIO', 'B', 'LSTAT', 'MEDV'],\n",
      "      dtype='object')\n",
      "Index(['AGE', 'B', 'CHAS', 'CRIM', 'DIS', 'INDUS', 'LSTAT', 'NOX', 'PTRATIO',\n",
      "       'RAD', 'RM', 'TAX', 'ZN'],\n",
      "      dtype='object')\n"
     ]
    }
   ],
   "source": [
    "x_vars = boston.columns.difference(['MEDV'])\n",
    "y_vars = ['MEDV']\n",
    "print(boston.columns)\n",
    "print(x_vars)"
   ]
  },
  {
   "cell_type": "code",
   "execution_count": 25,
   "metadata": {},
   "outputs": [],
   "source": [
    "import seaborn as sns\n",
    "#sns.pairplot(data=boston.iloc[0:10,:],x_vars=x_vars,y_vars=y_vars, hue = \"RAD\")\n",
    "#sns.pairplot(data=boston.iloc[0:10,:],vars = boston.columns[-7:],diag_kind=\"kde\")\n",
    "#sns.pairplot(data=boston.iloc[0:10,:]) #runs very slowly"
   ]
  },
  {
   "cell_type": "markdown",
   "metadata": {},
   "source": [
    "## Modeling\n",
    "\n",
    "### Selecting Features Based on Correlation"
   ]
  },
  {
   "cell_type": "code",
   "execution_count": 26,
   "metadata": {
    "ExecuteTime": {
     "end_time": "2019-05-15T14:25:09.124825Z",
     "start_time": "2019-05-15T14:25:08.638074Z"
    },
    "code_folding": []
   },
   "outputs": [
    {
     "data": {
      "image/png": "[encoded data removed]",
      "text/plain": [
       "<Figure size 720x720 with 2 Axes>"
      ]
     },
     "metadata": {},
     "output_type": "display_data"
    }
   ],
   "source": [
    "def doCorrelationReduction(corr_matrix = boston.corr(), original_data = boston, corr_thr=0.7):\n",
    "    \"\"\"Method to  select only the data with features that have low correlations between themselves\"\"\"\n",
    "    import numpy as np\n",
    "    corr_matrix_abs = corr_matrix.abs()\n",
    "    upper = corr_matrix.where(np.triu(np.ones(corr_matrix_abs.shape), k=1).astype(np.bool))  # # Select upper triangle of correlation matrix\n",
    "    # # Find index of feature columns with correlation greater than threshold\n",
    "    to_drop = [column for column in upper.columns if any(upper[column] > 0.7)]\n",
    "    boston.drop(boston[to_drop], axis=1)\n",
    "    \n",
    "    # [inside the list, using upper.columns, select any column (name) that has higher correlation than corr_thr value]\n",
    "    low_cor_data = boston.drop(boston[to_drop], axis=1)\n",
    "    # using the difference operator on the original data dataframe columns, subtract the to_drop columns\n",
    "\n",
    "    return low_cor_data\n",
    "\n",
    "def heatMap(df, mirror=False):\n",
    "\n",
    "   # Create Correlation df\n",
    "   corr = df.corr()\n",
    "   # Plot figsize\n",
    "   fig, ax = plt.subplots(figsize=(10, 10))\n",
    "   # Generate Color Map\n",
    "   colormap = sns.diverging_palette(220, 10, as_cmap=True)\n",
    "   \n",
    "   if mirror == True:\n",
    "      #Generate Heat Map, allow annotations and place floats in map\n",
    "      sns.heatmap(corr, cmap=colormap, annot=True, fmt=\".2f\")\n",
    "      #Apply xticks\n",
    "      plt.xticks(range(len(corr.columns)), corr.columns);\n",
    "      #Apply yticks\n",
    "      plt.yticks(range(len(corr.columns)), corr.columns)\n",
    "      #show plot\n",
    "\n",
    "   else:\n",
    "      # Drop self-correlations\n",
    "      dropSelf = np.zeros_like(corr)\n",
    "      dropSelf[np.triu_indices_from(dropSelf)] = True\n",
    "      # Generate Color Map\n",
    "      colormap = sns.diverging_palette(220, 10, as_cmap=True)\n",
    "      # Generate Heat Map, allow annotations and place floats in map\n",
    "      sns.heatmap(corr, cmap=colormap, annot=True, fmt=\".2f\", mask=dropSelf)\n",
    "      # Apply xticks\n",
    "      plt.xticks(range(len(corr.columns)), corr.columns);\n",
    "      # Apply yticks\n",
    "      plt.yticks(range(len(corr.columns)), corr.columns)\n",
    "   # show plot\n",
    "   plt.show()\n",
    "    \n",
    "heatMap(df=boston)\n",
    "boston_corr_reduced = doCorrelationReduction()"
   ]
  },
  {
   "cell_type": "markdown",
   "metadata": {},
   "source": [
    "### Notice Any Dimensionality Reduction?"
   ]
  },
  {
   "cell_type": "code",
   "execution_count": 27,
   "metadata": {
    "ExecuteTime": {
     "end_time": "2019-05-15T14:25:09.479990Z",
     "start_time": "2019-05-15T14:25:09.127226Z"
    }
   },
   "outputs": [
    {
     "data": {
      "image/png": "[encoded data removed]",
      "text/plain": [
       "<Figure size 720x720 with 2 Axes>"
      ]
     },
     "metadata": {},
     "output_type": "display_data"
    }
   ],
   "source": [
    "heatMap(df=boston_corr_reduced)"
   ]
  },
  {
   "cell_type": "code",
   "execution_count": null,
   "metadata": {},
   "outputs": [],
   "source": []
  },
  {
   "cell_type": "markdown",
   "metadata": {},
   "source": [
    "### Splitting Data for Measuring Generalization Error"
   ]
  },
  {
   "cell_type": "code",
   "execution_count": 28,
   "metadata": {
    "ExecuteTime": {
     "end_time": "2019-05-15T14:25:09.784679Z",
     "start_time": "2019-05-15T14:25:09.768170Z"
    }
   },
   "outputs": [
    {
     "name": "stdout",
     "output_type": "stream",
     "text": [
      "(404, 2)\n",
      "(102, 2)\n",
      "(404,)\n",
      "(102,)\n",
      "     LSTAT     RM\n",
      "0     4.98  6.575\n",
      "1     9.14  6.421\n",
      "2     4.03  7.185\n",
      "3     2.94  6.998\n",
      "4     5.33  7.147\n",
      "5     5.21  6.430\n",
      "6    12.43  6.012\n",
      "7    19.15  6.172\n",
      "8    29.93  5.631\n",
      "9    17.10  6.004\n",
      "10   20.45  6.377\n",
      "11   13.27  6.009\n",
      "12   15.71  5.889\n",
      "13    8.26  5.949\n",
      "14   10.26  6.096\n",
      "15    8.47  5.834\n",
      "16    6.58  5.935\n",
      "17   14.67  5.990\n",
      "18   11.69  5.456\n",
      "19   11.28  5.727\n",
      "20   21.02  5.570\n",
      "21   13.83  5.965\n",
      "22   18.72  6.142\n",
      "23   19.88  5.813\n",
      "24   16.30  5.924\n",
      "25   16.51  5.599\n",
      "26   14.81  5.813\n",
      "27   17.28  6.047\n",
      "28   12.80  6.495\n",
      "29   11.98  6.674\n",
      "..     ...    ...\n",
      "476  18.68  6.484\n",
      "477  24.91  5.304\n",
      "478  18.03  6.185\n",
      "479  13.11  6.229\n",
      "480  10.74  6.242\n",
      "481   7.74  6.750\n",
      "482   7.01  7.061\n",
      "483  10.42  5.762\n",
      "484  13.34  5.871\n",
      "485  10.58  6.312\n",
      "486  14.98  6.114\n",
      "487  11.45  5.905\n",
      "488  18.06  5.454\n",
      "489  23.97  5.414\n",
      "490  29.68  5.093\n",
      "491  18.07  5.983\n",
      "492  13.35  5.983\n",
      "493  12.01  5.707\n",
      "494  13.59  5.926\n",
      "495  17.60  5.670\n",
      "496  21.14  5.390\n",
      "497  14.10  5.794\n",
      "498  12.92  6.019\n",
      "499  15.10  5.569\n",
      "500  14.33  6.027\n",
      "501   9.67  6.593\n",
      "502   9.08  6.120\n",
      "503   5.64  6.976\n",
      "504   6.48  6.794\n",
      "505   7.88  6.030\n",
      "\n",
      "[506 rows x 2 columns]\n"
     ]
    }
   ],
   "source": [
    "import numpy as np\n",
    "import pandas as pd\n",
    "X = pd.DataFrame(np.c_[boston['LSTAT'], boston['RM']], columns = ['LSTAT','RM'])\n",
    "Y = boston['MEDV']\n",
    "from sklearn.model_selection import train_test_split\n",
    "X_train, X_test, Y_train, Y_test = train_test_split(X, Y, test_size = 0.2, random_state=5)\n",
    "print(X_train.shape)\n",
    "print(X_test.shape)\n",
    "print(Y_train.shape)\n",
    "print(Y_test.shape)\n",
    "print(X)"
   ]
  },
  {
   "cell_type": "markdown",
   "metadata": {},
   "source": [
    "### Linear Regression Using Your Own OOP Implementation"
   ]
  },
  {
   "cell_type": "code",
   "execution_count": 37,
   "metadata": {
    "ExecuteTime": {
     "end_time": "2019-05-15T14:25:38.639019Z",
     "start_time": "2019-05-15T14:25:38.628474Z"
    }
   },
   "outputs": [
    {
     "name": "stdout",
     "output_type": "stream",
     "text": [
      "475 µs ± 24.2 µs per loop (mean ± std. dev. of 7 runs, 1000 loops each)\n"
     ]
    }
   ],
   "source": [
    "%%timeit\n",
    "# importlib.reload(mymodule), # https://ipython.org/ipython-doc/3/config/extensions/autoreload.html\n",
    "general_model = GeneralModelClass()\n",
    "linreg_model = LinearRegression_(general_model)\n",
    "linreg_model.__dict__\n",
    "linreg_model.fit(X=X_train,y=Y_train)\n"
   ]
  },
  {
   "cell_type": "code",
   "execution_count": 36,
   "metadata": {},
   "outputs": [
    {
     "name": "stdout",
     "output_type": "stream",
     "text": [
      "sse:     12837.9998\n",
      "sst:     34704.2858\n",
      "rmse:    5.6371\n",
      "r^2:     0.6301\n",
      "adj_r^2: 0.6282\n"
     ]
    }
   ],
   "source": [
    "linreg_model.pretty_print_stats()"
   ]
  },
  {
   "cell_type": "code",
   "execution_count": null,
   "metadata": {},
   "outputs": [],
   "source": []
  },
  {
   "cell_type": "code",
   "execution_count": 38,
   "metadata": {
    "ExecuteTime": {
     "end_time": "2019-05-15T14:25:09.808868Z",
     "start_time": "2019-05-15T14:25:08.470Z"
    }
   },
   "outputs": [
    {
     "name": "stdout",
     "output_type": "stream",
     "text": [
      "    def pretty_print_stats(self):\n",
      "        '''returns report of statistics for a given model object'''\n",
      "        items = ( ('sse:',self.sse()),('sst:',self.sst()),('rmse:', self.rmse()), ('r^2:', self.r_squared()), \n",
      "                  ('adj_r^2:', self.adj_r_squared()))\n",
      "        for item in items:\n",
      "            print('{0:8} {1:.4f}'.format(item[0], item[1]))\n",
      "\n"
     ]
    }
   ],
   "source": [
    "import inspect\n",
    "lines = inspect.getsource(linreg_model.pretty_print_stats)\n",
    "print(lines)"
   ]
  },
  {
   "cell_type": "markdown",
   "metadata": {},
   "source": [
    "\n",
    "\n",
    "**make sure if you add features that you transform both train and test when you transform your data**\n"
   ]
  },
  {
   "cell_type": "markdown",
   "metadata": {},
   "source": [
    "### Linear Regression Using Statsmodels"
   ]
  },
  {
   "cell_type": "markdown",
   "metadata": {},
   "source": [
    "You can implement linear regression in Python relatively easily by using the package statsmodels as well. Typically, this is desirable when there is a need for more detailed results."
   ]
  },
  {
   "cell_type": "code",
   "execution_count": 39,
   "metadata": {
    "ExecuteTime": {
     "end_time": "2019-05-15T14:38:17.715632Z",
     "start_time": "2019-05-15T14:38:17.683082Z"
    }
   },
   "outputs": [],
   "source": [
    "#%%timeit\n",
    "import statsmodels.api as sm\n",
    "X_constant_added = sm.add_constant(X)\n",
    "model = sm.OLS(y, X_constant_added)\n",
    "results = model.fit()\n"
   ]
  },
  {
   "cell_type": "code",
   "execution_count": 40,
   "metadata": {},
   "outputs": [
    {
     "name": "stdout",
     "output_type": "stream",
     "text": [
      "                            OLS Regression Results                            \n",
      "==============================================================================\n",
      "Dep. Variable:                   MEDV   R-squared:                       0.639\n",
      "Model:                            OLS   Adj. R-squared:                  0.637\n",
      "Method:                 Least Squares   F-statistic:                     444.3\n",
      "Date:                Thu, 08 Aug 2019   Prob (F-statistic):          7.01e-112\n",
      "Time:                        14:05:18   Log-Likelihood:                -1582.8\n",
      "No. Observations:                 506   AIC:                             3172.\n",
      "Df Residuals:                     503   BIC:                             3184.\n",
      "Df Model:                           2                                         \n",
      "Covariance Type:            nonrobust                                         \n",
      "==============================================================================\n",
      "                 coef    std err          t      P>|t|      [0.025      0.975]\n",
      "------------------------------------------------------------------------------\n",
      "const         -1.3583      3.173     -0.428      0.669      -7.592       4.875\n",
      "LSTAT         -0.6424      0.044    -14.689      0.000      -0.728      -0.556\n",
      "RM             5.0948      0.444     11.463      0.000       4.222       5.968\n",
      "==============================================================================\n",
      "Omnibus:                      145.712   Durbin-Watson:                   0.834\n",
      "Prob(Omnibus):                  0.000   Jarque-Bera (JB):              457.690\n",
      "Skew:                           1.343   Prob(JB):                    4.11e-100\n",
      "Kurtosis:                       6.807   Cond. No.                         202.\n",
      "==============================================================================\n",
      "\n",
      "Warnings:\n",
      "[1] Standard Errors assume that the covariance matrix of the errors is correctly specified.\n",
      "coefficient of determination: 0.6385616062603404\n",
      "adjusted coefficient of determination: 0.6371244754701231\n",
      "regression coefficients: const   -1.358273\n",
      "LSTAT   -0.642358\n",
      "RM       5.094788\n",
      "dtype: float64\n"
     ]
    }
   ],
   "source": [
    "print(results.summary())\n",
    "print('coefficient of determination:', results.rsquared)\n",
    "print('adjusted coefficient of determination:', results.rsquared_adj)\n",
    "print('regression coefficients:', results.params)"
   ]
  },
  {
   "cell_type": "markdown",
   "metadata": {},
   "source": [
    "## Task : Multiple Regression Comparison with Different Libraries\n",
    "\n",
    "\n",
    "In this task, your task is to predict the Median value of owner-occupied homes in $1000's in Boston, using multiple different features.\n",
    "\n",
    "**Before you start : Split the Boston housing dataset into training and test sets using Scikit-learn train-test split function.**\n",
    "\n",
    "Starting Question : \n",
    "**Compare the Implementation of the matrix transformations in the `fit`-method of the Linear Regression implementation to the tasks in the last assignments. What do you notice? What is the closed form solution called in other words? We talked about this on Monday.**\n",
    "\n",
    "- 0.0 Are the features linearly independent of each other? Show this programmatically.\n",
    "- 0.1 Are the assumptions for linear regression fulfilled?\n",
    "\n",
    "[assumptions](https://towardsdatascience.com/verifying-the-assumptions-of-linear-regression-in-python-and-r-f4cd2907d4c0)\n",
    "\n",
    "\n",
    "In the next steps, we will look at some concrete models. **Remember to measure both the training and prediction times of your runs.**\n",
    "\n",
    "0.0 Referring to the maximum likelihood notebook, implement a method to compute the negative log-likelihood.\n",
    "\n",
    "- 1.0 Define **optimize (train)** a multiple linear regression model in Scikit-Learn with all features\n",
    "- 1.1 Define **optimize (train)** a multiple linear regression model in Scikit-Learn with low correlated features\n",
    "\n",
    "[Scikit Lin Reg](https://scikit-learn.org/stable/modules/generated/sklearn.linear_model.LinearRegression.html)\n",
    "\n",
    "**What fitting methods are available here?**\n",
    "\n",
    "\n",
    "- 3.0 Define and **optimize (train)** a multiple linear regression model in statsmodels with all features\n",
    "- 3.1  Define and **optimize (train)** a multiple linear regression model in statsmodels with low correlated features\n",
    "\n",
    "[Statsmodels Lin Reg](https://www.statsmodels.org/stable/regression.html)\n",
    "\n",
    "\"This module allows estimation by ordinary least squares (OLS), weighted least squares (WLS), generalized least squares (GLS), and feasible generalized least squares with autocorrelated AR(p) errors.\"\n",
    "\n",
    "- Which library (statsmodels or Scikit-learn) allows for more flexible fitting procedure?\n",
    "\n",
    "\n",
    "- 5. Remember that the training error is not a good metric for evaluation how well a model generalizes. That's why you should now compare the results by MSE achieved on the test set. \n",
    "\n",
    "\n",
    "- Which model generalizes the best? Plot the MSE VS neg-log-likelihood for each of the models. Why does the graph look like it does?\n",
    "- Did you see any significant improvement in generalization by eliminating features that are highly correlated to others?\n",
    "- Was there any considerable speed differences between the runtimes of the model? Did you use GPU or not?\n",
    "\n",
    "\n",
    "\n",
    "### BONUS POINT QUESTIONS (+1.5 %):\n",
    "\n",
    "----------------------------------------------------------\n",
    "- 2.0 Define and **optimize (train)** a multiple **polynomial** regression model in Scikit-Learn with all features\n",
    "- 2.1 Define and **optimize (train)** a multiple **polynomial** regression model in Scikit-Learn with low correlated features\n",
    "\n",
    "AND\n",
    "\n",
    "- Use Bayesian Feature Selection (refer to the appropriate method in SkLearn or Lasso to Select the best performing features).\n",
    "\n",
    "---------------------------------------------------------------------\n",
    "AND\n",
    "\n",
    "- 4.0 Define and **optimize (train)** a multiple linear regression model in Pytorch with all features\n",
    "- 4.1 Define and **optimize (train)** a multiple linear regression model in Pytorch with low correlated features\n",
    "\n",
    "\n",
    "**What needs to be included** :\n",
    "\n",
    "Answers to the previously mentioned questions, but now comparing all the trained models between each other:\n",
    "\n",
    "- Which model generalizes the best?  Plot the MSE VS neg-log-likelihood for each of the models. Why does the graph look like it does?\n",
    "- Did you see any significant improvement in generalization by eliminating features that are highly correlated to others?\n",
    "- Was there any considerable speed differences between the runtimes of the model? Did you use GPU or not?"
   ]
  },
  {
   "cell_type": "code",
   "execution_count": 41,
   "metadata": {},
   "outputs": [
    {
     "name": "stdout",
     "output_type": "stream",
     "text": [
      "predicted response:\n",
      "0      28.941014\n",
      "1      25.484206\n",
      "2      32.659075\n",
      "3      32.406520\n",
      "4      31.630407\n",
      "5      28.054527\n",
      "6      21.287078\n",
      "7      17.785597\n",
      "8       8.104693\n",
      "9      18.246507\n",
      "10     17.994962\n",
      "11     20.732213\n",
      "12     18.553484\n",
      "13     23.644741\n",
      "14     23.108958\n",
      "15     22.923945\n",
      "16     24.652576\n",
      "17     19.736110\n",
      "18     18.929722\n",
      "19     20.573776\n",
      "20     13.517324\n",
      "21     20.148322\n",
      "22     17.908967\n",
      "23     15.487646\n",
      "24     18.352810\n",
      "25     16.562109\n",
      "26     18.744403\n",
      "27     18.349958\n",
      "28     23.510188\n",
      "29     24.948889\n",
      "         ...    \n",
      "476    19.677079\n",
      "477     9.663337\n",
      "478    18.571270\n",
      "479    21.955844\n",
      "480    23.544465\n",
      "481    28.059693\n",
      "482    30.113093\n",
      "483    21.304522\n",
      "484    19.984167\n",
      "485    24.003878\n",
      "486    20.168733\n",
      "487    21.371447\n",
      "488    14.827709\n",
      "489    10.827580\n",
      "490     5.524287\n",
      "491    17.516429\n",
      "492    20.548360\n",
      "493    20.002959\n",
      "494    20.103791\n",
      "495    16.223668\n",
      "496    12.523179\n",
      "497    19.103676\n",
      "498    21.007986\n",
      "499    17.314991\n",
      "500    20.143019\n",
      "501    26.020059\n",
      "502    23.989216\n",
      "503    30.560067\n",
      "504    29.093235\n",
      "505    24.301515\n",
      "Length: 506, dtype: float64\n"
     ]
    }
   ],
   "source": [
    "## predicted response\n",
    "\n",
    "#print('predicted response:', results.fittedvalues, sep='\\n')\n",
    "print('predicted response:', results.predict(X_constant_added), sep='\\n')\n",
    "\n"
   ]
  },
  {
   "cell_type": "code",
   "execution_count": 44,
   "metadata": {},
   "outputs": [],
   "source": [
    "#%%timeit \n",
    "\n",
    "from sklearn.linear_model import LinearRegression\n",
    "from sklearn.preprocessing import PolynomialFeatures\n",
    "\n",
    "linreg_model_sklearn = LinearRegression().fit(X, Y)\n",
    "\n",
    "transformer = PolynomialFeatures(degree=2, include_bias=False)\n",
    "X_with_polynomial =  transformer.fit_transform(X)\n",
    "\n"
   ]
  },
  {
   "cell_type": "code",
   "execution_count": 45,
   "metadata": {
    "scrolled": true
   },
   "outputs": [
    {
     "name": "stdout",
     "output_type": "stream",
     "text": [
      "Test set score: 0.68\n"
     ]
    }
   ],
   "source": [
    "## Comparison of Predictions\n",
    "y_pred_own = linreg_model.predict(X_test)\n",
    "y_pred_sklearn = linreg_model_sklearn.predict(X_test)\n",
    "\n",
    "print(\"Test set score: {:.2f}\".format(linreg_model_sklearn.score(X_test, Y_test)))\n"
   ]
  },
  {
   "cell_type": "code",
   "execution_count": 46,
   "metadata": {},
   "outputs": [
    {
     "data": {
      "text/plain": [
       "array([-0.64235833,  5.09478798])"
      ]
     },
     "execution_count": 46,
     "metadata": {},
     "output_type": "execute_result"
    }
   ],
   "source": [
    "linreg_model_sklearn.coef_"
   ]
  },
  {
   "cell_type": "markdown",
   "metadata": {},
   "source": [
    "comment: Comparing both the R^2 we can say that scikit model is better own model."
   ]
  },
  {
   "cell_type": "code",
   "execution_count": 47,
   "metadata": {},
   "outputs": [
    {
     "data": {
      "text/html": [
       "<div>\n",
       "<style scoped>\n",
       "    .dataframe tbody tr th:only-of-type {\n",
       "        vertical-align: middle;\n",
       "    }\n",
       "\n",
       "    .dataframe tbody tr th {\n",
       "        vertical-align: top;\n",
       "    }\n",
       "\n",
       "    .dataframe thead th {\n",
       "        text-align: right;\n",
       "    }\n",
       "</style>\n",
       "<table border=\"1\" class=\"dataframe\">\n",
       "  <thead>\n",
       "    <tr style=\"text-align: right;\">\n",
       "      <th></th>\n",
       "      <th>LSTAT</th>\n",
       "      <th>RM</th>\n",
       "    </tr>\n",
       "  </thead>\n",
       "  <tbody>\n",
       "    <tr>\n",
       "      <th>vif</th>\n",
       "      <td>1.60452</td>\n",
       "      <td>1.60452</td>\n",
       "    </tr>\n",
       "  </tbody>\n",
       "</table>\n",
       "</div>"
      ],
      "text/plain": [
       "       LSTAT       RM\n",
       "vif  1.60452  1.60452"
      ]
     },
     "execution_count": 47,
     "metadata": {},
     "output_type": "execute_result"
    }
   ],
   "source": [
    "from statsmodels.stats.outliers_influence import variance_inflation_factor\n",
    "\n",
    "vif = [variance_inflation_factor(X_constant_added.values, i) for i in range(X_constant_added.shape[1])]\n",
    "pd.DataFrame({'vif': vif[1:]}, index=X.columns).T"
   ]
  },
  {
   "cell_type": "markdown",
   "metadata": {},
   "source": [
    "### Linear Independence / Dependence\n",
    "[stats stackexchange reference](https://stats.stackexchange.com/questions/92522/linearly-dependent-features)\n"
   ]
  },
  {
   "cell_type": "code",
   "execution_count": 48,
   "metadata": {},
   "outputs": [
    {
     "name": "stdout",
     "output_type": "stream",
     "text": [
      "You have a full-rank data matrix, no linearly dependent features!\n"
     ]
    }
   ],
   "source": [
    "from numpy.linalg import matrix_rank\n",
    "if matrix_rank(boston.values) == len(boston.columns):\n",
    "    print(\"You have a full-rank data matrix, no linearly dependent features!\")\n",
    "else :\n",
    "    print(\"Some features are linearly dependent!\")\n"
   ]
  },
  {
   "cell_type": "code",
   "execution_count": 53,
   "metadata": {},
   "outputs": [],
   "source": [
    "x_vars = boston.drop(['MEDV'],axis=1)\n",
    "#x=np.array(x_vars.values.reshape(1,-1))\n",
    "y_vars = boston ['MEDV']\n",
    "X_train, X_test, Y_train, Y_test = train_test_split(x, y_vars, test_size = 0.2, random_state=5)\n",
    "linreg_model_sklearn = LinearRegression().fit(x_vars, y)\n"
   ]
  },
  {
   "cell_type": "code",
   "execution_count": 54,
   "metadata": {},
   "outputs": [
    {
     "data": {
      "text/plain": [
       "array([-1.07170557e-01,  4.63952195e-02,  2.08602395e-02,  2.68856140e+00,\n",
       "       -1.77957587e+01,  3.80475246e+00,  7.51061703e-04, -1.47575880e+00,\n",
       "        3.05655038e-01, -1.23293463e-02, -9.53463555e-01,  9.39251272e-03,\n",
       "       -5.25466633e-01])"
      ]
     },
     "execution_count": 54,
     "metadata": {},
     "output_type": "execute_result"
    }
   ],
   "source": [
    "linreg_model_sklearn.coef_"
   ]
  },
  {
   "cell_type": "code",
   "execution_count": 57,
   "metadata": {
    "scrolled": true
   },
   "outputs": [
    {
     "data": {
      "text/plain": [
       "36.491103280361344"
      ]
     },
     "execution_count": 57,
     "metadata": {},
     "output_type": "execute_result"
    }
   ],
   "source": [
    "linreg_model_sklearn.intercept_"
   ]
  },
  {
   "cell_type": "code",
   "execution_count": 59,
   "metadata": {},
   "outputs": [],
   "source": [
    "sd=boston.std()"
   ]
  },
  {
   "cell_type": "code",
   "execution_count": 61,
   "metadata": {
    "ExecuteTime": {
     "end_time": "2019-08-08T11:22:21.837608Z",
     "start_time": "2019-08-08T11:22:21.830068Z"
    }
   },
   "outputs": [],
   "source": [
    "# define likelihood function\n",
    "def neg_log_likelihood(params):\n",
    "    \"\"\" Computes the \"\"\"\n",
    "    intercept, coef, sd = params[0], params[1], params[2] # inputs are guesses at our parameters\n",
    "    yhat = intercept + beta*x # predictions\n",
    "    # to find the negative log likelihood, sum the log densities as according to the likelihood function formula\n",
    "    negative_log_likelihood = -np.sum( stats.norm.logpdf(y, loc=yhat, scale=sd) )\n",
    "    return(negative_log_likelihood)\n"
   ]
  },
  {
   "cell_type": "code",
   "execution_count": null,
   "metadata": {},
   "outputs": [],
   "source": []
  }
 ],
 "metadata": {
  "kernelspec": {
   "display_name": "Python 3",
   "language": "python",
   "name": "python3"
  },
  "language_info": {
   "codemirror_mode": {
    "name": "ipython",
    "version": 3
   },
   "file_extension": ".py",
   "mimetype": "text/x-python",
   "name": "python",
   "nbconvert_exporter": "python",
   "pygments_lexer": "ipython3",
   "version": "3.7.0"
  },
  "latex_envs": {
   "LaTeX_envs_menu_present": true,
   "autoclose": false,
   "autocomplete": true,
   "bibliofile": "biblio.bib",
   "cite_by": "apalike",
   "current_citInitial": 1,
   "eqLabelWithNumbers": true,
   "eqNumInitial": 1,
   "hotkeys": {
    "equation": "Ctrl-E",
    "itemize": "Ctrl-I"
   },
   "labels_anchors": false,
   "latex_user_defs": false,
   "report_style_numbering": false,
   "user_envs_cfg": false
  },
  "toc": {
   "base_numbering": 1,
   "nav_menu": {},
   "number_sections": true,
   "sideBar": true,
   "skip_h1_title": false,
   "title_cell": "Table of Contents",
   "title_sidebar": "Contents",
   "toc_cell": false,
   "toc_position": {},
   "toc_section_display": true,
   "toc_window_display": false
  },
  "varInspector": {
   "cols": {
    "lenName": 16,
    "lenType": 16,
    "lenVar": 40
   },
   "kernels_config": {
    "python": {
     "delete_cmd_postfix": "",
     "delete_cmd_prefix": "del ",
     "library": "var_list.py",
     "varRefreshCmd": "print(var_dic_list())"
    },
    "r": {
     "delete_cmd_postfix": ") ",
     "delete_cmd_prefix": "rm(",
     "library": "var_list.r",
     "varRefreshCmd": "cat(var_dic_list()) "
    }
   },
   "position": {
    "height": "616px",
    "left": "1425px",
    "right": "20px",
    "top": "154px",
    "width": "627px"
   },
   "types_to_exclude": [
    "module",
    "function",
    "builtin_function_or_method",
    "instance",
    "_Feature"
   ],
   "window_display": false
  }
 },
 "nbformat": 4,
 "nbformat_minor": 2
}
