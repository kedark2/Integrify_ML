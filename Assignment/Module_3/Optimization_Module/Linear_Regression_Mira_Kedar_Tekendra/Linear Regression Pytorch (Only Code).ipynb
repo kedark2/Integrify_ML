{
 "cells": [
  {
   "cell_type": "code",
   "execution_count": 7,
   "metadata": {
    "ExecuteTime": {
     "end_time": "2019-08-06T09:21:21.440191Z",
     "start_time": "2019-08-06T09:21:21.266184Z"
    }
   },
   "outputs": [],
   "source": [
    "import numpy as np\n",
    "import matplotlib.pyplot as plt\n",
    "# create dummy data for training\n",
    "x_values = [i for i in range(11)]\n",
    "x_train = np.array(x_values, dtype=np.float32)\n",
    "x_train = x_train.reshape(-1, 1)\n",
    "\n",
    "y_values = [2*i + 1 for i in x_values]\n",
    "y_train = np.array(y_values, dtype=np.float32)\n",
    "y_train = y_train.reshape(-1, 1)"
   ]
  },
  {
   "cell_type": "code",
   "execution_count": 8,
   "metadata": {
    "ExecuteTime": {
     "end_time": "2019-08-06T09:21:21.486185Z",
     "start_time": "2019-08-06T09:21:21.482087Z"
    }
   },
   "outputs": [],
   "source": [
    "import torch\n",
    "from torch.autograd import Variable\n",
    "class linearRegression(torch.nn.Module):\n",
    "    def __init__(self, inputSize, outputSize):\n",
    "        super(linearRegression, self).__init__()\n",
    "        self.linear = torch.nn.Linear(inputSize, outputSize)\n",
    "\n",
    "    def forward(self, x):\n",
    "        out = self.linear(x)\n",
    "        return out"
   ]
  },
  {
   "cell_type": "code",
   "execution_count": 9,
   "metadata": {
    "ExecuteTime": {
     "end_time": "2019-08-06T09:21:21.696864Z",
     "start_time": "2019-08-06T09:21:21.693850Z"
    }
   },
   "outputs": [],
   "source": [
    "inputDim = 1        # takes variable 'x' \n",
    "outputDim = 1       # takes variable 'y'\n",
    "learningRate = 0.01 \n",
    "epochs = 100\n",
    "\n",
    "model = linearRegression(inputDim, outputDim)\n",
    "##### For GPU #######\n",
    "if torch.cuda.is_available():\n",
    "    model.cuda()"
   ]
  },
  {
   "cell_type": "code",
   "execution_count": 10,
   "metadata": {
    "ExecuteTime": {
     "end_time": "2019-08-06T09:21:21.885955Z",
     "start_time": "2019-08-06T09:21:21.883388Z"
    }
   },
   "outputs": [],
   "source": [
    "criterion = torch.nn.MSELoss() \n",
    "optimizer = torch.optim.SGD(model.parameters(), lr=learningRate)\n"
   ]
  },
  {
   "cell_type": "code",
   "execution_count": 11,
   "metadata": {
    "ExecuteTime": {
     "end_time": "2019-08-06T09:21:22.120712Z",
     "start_time": "2019-08-06T09:21:22.049463Z"
    }
   },
   "outputs": [
    {
     "name": "stdout",
     "output_type": "stream",
     "text": [
      "tensor(176.5452, grad_fn=<MseLossBackward>)\n",
      "epoch 0, loss 176.5452117919922\n",
      "tensor(14.4229, grad_fn=<MseLossBackward>)\n",
      "epoch 1, loss 14.422876358032227\n",
      "tensor(1.1988, grad_fn=<MseLossBackward>)\n",
      "epoch 2, loss 1.1988177299499512\n",
      "tensor(0.1199, grad_fn=<MseLossBackward>)\n",
      "epoch 3, loss 0.11992060393095016\n",
      "tensor(0.0317, grad_fn=<MseLossBackward>)\n",
      "epoch 4, loss 0.03167170286178589\n",
      "tensor(0.0242, grad_fn=<MseLossBackward>)\n",
      "epoch 5, loss 0.02422919124364853\n",
      "tensor(0.0234, grad_fn=<MseLossBackward>)\n",
      "epoch 6, loss 0.023380378261208534\n",
      "tensor(0.0231, grad_fn=<MseLossBackward>)\n",
      "epoch 7, loss 0.023072130978107452\n",
      "tensor(0.0228, grad_fn=<MseLossBackward>)\n",
      "epoch 8, loss 0.02281067706644535\n",
      "tensor(0.0226, grad_fn=<MseLossBackward>)\n",
      "epoch 9, loss 0.022555561736226082\n",
      "tensor(0.0223, grad_fn=<MseLossBackward>)\n",
      "epoch 10, loss 0.022303737699985504\n",
      "tensor(0.0221, grad_fn=<MseLossBackward>)\n",
      "epoch 11, loss 0.022054631263017654\n",
      "tensor(0.0218, grad_fn=<MseLossBackward>)\n",
      "epoch 12, loss 0.021808413788676262\n",
      "tensor(0.0216, grad_fn=<MseLossBackward>)\n",
      "epoch 13, loss 0.021564869210124016\n",
      "tensor(0.0213, grad_fn=<MseLossBackward>)\n",
      "epoch 14, loss 0.021324029192328453\n",
      "tensor(0.0211, grad_fn=<MseLossBackward>)\n",
      "epoch 15, loss 0.02108592540025711\n",
      "tensor(0.0209, grad_fn=<MseLossBackward>)\n",
      "epoch 16, loss 0.02085038088262081\n",
      "tensor(0.0206, grad_fn=<MseLossBackward>)\n",
      "epoch 17, loss 0.020617544651031494\n",
      "tensor(0.0204, grad_fn=<MseLossBackward>)\n",
      "epoch 18, loss 0.02038738504052162\n",
      "tensor(0.0202, grad_fn=<MseLossBackward>)\n",
      "epoch 19, loss 0.020159712061285973\n",
      "tensor(0.0199, grad_fn=<MseLossBackward>)\n",
      "epoch 20, loss 0.019934644922614098\n",
      "tensor(0.0197, grad_fn=<MseLossBackward>)\n",
      "epoch 21, loss 0.019711989909410477\n",
      "tensor(0.0195, grad_fn=<MseLossBackward>)\n",
      "epoch 22, loss 0.01949186995625496\n",
      "tensor(0.0193, grad_fn=<MseLossBackward>)\n",
      "epoch 23, loss 0.01927422732114792\n",
      "tensor(0.0191, grad_fn=<MseLossBackward>)\n",
      "epoch 24, loss 0.019058994948863983\n",
      "tensor(0.0188, grad_fn=<MseLossBackward>)\n",
      "epoch 25, loss 0.01884612627327442\n",
      "tensor(0.0186, grad_fn=<MseLossBackward>)\n",
      "epoch 26, loss 0.01863567717373371\n",
      "tensor(0.0184, grad_fn=<MseLossBackward>)\n",
      "epoch 27, loss 0.018427597358822823\n",
      "tensor(0.0182, grad_fn=<MseLossBackward>)\n",
      "epoch 28, loss 0.018221816048026085\n",
      "tensor(0.0180, grad_fn=<MseLossBackward>)\n",
      "epoch 29, loss 0.018018284812569618\n",
      "tensor(0.0178, grad_fn=<MseLossBackward>)\n",
      "epoch 30, loss 0.017817188054323196\n",
      "tensor(0.0176, grad_fn=<MseLossBackward>)\n",
      "epoch 31, loss 0.01761818863451481\n",
      "tensor(0.0174, grad_fn=<MseLossBackward>)\n",
      "epoch 32, loss 0.017421437427401543\n",
      "tensor(0.0172, grad_fn=<MseLossBackward>)\n",
      "epoch 33, loss 0.01722686178982258\n",
      "tensor(0.0170, grad_fn=<MseLossBackward>)\n",
      "epoch 34, loss 0.017034493386745453\n",
      "tensor(0.0168, grad_fn=<MseLossBackward>)\n",
      "epoch 35, loss 0.01684429869055748\n",
      "tensor(0.0167, grad_fn=<MseLossBackward>)\n",
      "epoch 36, loss 0.01665613427758217\n",
      "tensor(0.0165, grad_fn=<MseLossBackward>)\n",
      "epoch 37, loss 0.01647017151117325\n",
      "tensor(0.0163, grad_fn=<MseLossBackward>)\n",
      "epoch 38, loss 0.01628628931939602\n",
      "tensor(0.0161, grad_fn=<MseLossBackward>)\n",
      "epoch 39, loss 0.016104433685541153\n",
      "tensor(0.0159, grad_fn=<MseLossBackward>)\n",
      "epoch 40, loss 0.015924615785479546\n",
      "tensor(0.0157, grad_fn=<MseLossBackward>)\n",
      "epoch 41, loss 0.01574677601456642\n",
      "tensor(0.0156, grad_fn=<MseLossBackward>)\n",
      "epoch 42, loss 0.01557094231247902\n",
      "tensor(0.0154, grad_fn=<MseLossBackward>)\n",
      "epoch 43, loss 0.015397042036056519\n",
      "tensor(0.0152, grad_fn=<MseLossBackward>)\n",
      "epoch 44, loss 0.015225053764879704\n",
      "tensor(0.0151, grad_fn=<MseLossBackward>)\n",
      "epoch 45, loss 0.015055068768560886\n",
      "tensor(0.0149, grad_fn=<MseLossBackward>)\n",
      "epoch 46, loss 0.014886959455907345\n",
      "tensor(0.0147, grad_fn=<MseLossBackward>)\n",
      "epoch 47, loss 0.01472070999443531\n",
      "tensor(0.0146, grad_fn=<MseLossBackward>)\n",
      "epoch 48, loss 0.01455631759017706\n",
      "tensor(0.0144, grad_fn=<MseLossBackward>)\n",
      "epoch 49, loss 0.014393780380487442\n",
      "tensor(0.0142, grad_fn=<MseLossBackward>)\n",
      "epoch 50, loss 0.014233051799237728\n",
      "tensor(0.0141, grad_fn=<MseLossBackward>)\n",
      "epoch 51, loss 0.014074134640395641\n",
      "tensor(0.0139, grad_fn=<MseLossBackward>)\n",
      "epoch 52, loss 0.01391691341996193\n",
      "tensor(0.0138, grad_fn=<MseLossBackward>)\n",
      "epoch 53, loss 0.013761543668806553\n",
      "tensor(0.0136, grad_fn=<MseLossBackward>)\n",
      "epoch 54, loss 0.013607866130769253\n",
      "tensor(0.0135, grad_fn=<MseLossBackward>)\n",
      "epoch 55, loss 0.013455942273139954\n",
      "tensor(0.0133, grad_fn=<MseLossBackward>)\n",
      "epoch 56, loss 0.01330566592514515\n",
      "tensor(0.0132, grad_fn=<MseLossBackward>)\n",
      "epoch 57, loss 0.013157068751752377\n",
      "tensor(0.0130, grad_fn=<MseLossBackward>)\n",
      "epoch 58, loss 0.013010118156671524\n",
      "tensor(0.0129, grad_fn=<MseLossBackward>)\n",
      "epoch 59, loss 0.012864808551967144\n",
      "tensor(0.0127, grad_fn=<MseLossBackward>)\n",
      "epoch 60, loss 0.012721149250864983\n",
      "tensor(0.0126, grad_fn=<MseLossBackward>)\n",
      "epoch 61, loss 0.012579146772623062\n",
      "tensor(0.0124, grad_fn=<MseLossBackward>)\n",
      "epoch 62, loss 0.012438705191016197\n",
      "tensor(0.0123, grad_fn=<MseLossBackward>)\n",
      "epoch 63, loss 0.012299751862883568\n",
      "tensor(0.0122, grad_fn=<MseLossBackward>)\n",
      "epoch 64, loss 0.012162413448095322\n",
      "tensor(0.0120, grad_fn=<MseLossBackward>)\n",
      "epoch 65, loss 0.012026608921587467\n",
      "tensor(0.0119, grad_fn=<MseLossBackward>)\n",
      "epoch 66, loss 0.011892279610037804\n",
      "tensor(0.0118, grad_fn=<MseLossBackward>)\n",
      "epoch 67, loss 0.011759513057768345\n",
      "tensor(0.0116, grad_fn=<MseLossBackward>)\n",
      "epoch 68, loss 0.011628170497715473\n",
      "tensor(0.0115, grad_fn=<MseLossBackward>)\n",
      "epoch 69, loss 0.011498291976749897\n",
      "tensor(0.0114, grad_fn=<MseLossBackward>)\n",
      "epoch 70, loss 0.011369925923645496\n",
      "tensor(0.0112, grad_fn=<MseLossBackward>)\n",
      "epoch 71, loss 0.011242962442338467\n",
      "tensor(0.0111, grad_fn=<MseLossBackward>)\n",
      "epoch 72, loss 0.011117414571344852\n",
      "tensor(0.0110, grad_fn=<MseLossBackward>)\n",
      "epoch 73, loss 0.0109932916238904\n",
      "tensor(0.0109, grad_fn=<MseLossBackward>)\n",
      "epoch 74, loss 0.010870499536395073\n",
      "tensor(0.0107, grad_fn=<MseLossBackward>)\n",
      "epoch 75, loss 0.010749096982181072\n",
      "tensor(0.0106, grad_fn=<MseLossBackward>)\n",
      "epoch 76, loss 0.010629108175635338\n",
      "tensor(0.0105, grad_fn=<MseLossBackward>)\n",
      "epoch 77, loss 0.010510389693081379\n",
      "tensor(0.0104, grad_fn=<MseLossBackward>)\n",
      "epoch 78, loss 0.010393044911324978\n",
      "tensor(0.0103, grad_fn=<MseLossBackward>)\n",
      "epoch 79, loss 0.010276978835463524\n",
      "tensor(0.0102, grad_fn=<MseLossBackward>)\n",
      "epoch 80, loss 0.010162162594497204\n",
      "tensor(0.0100, grad_fn=<MseLossBackward>)\n",
      "epoch 81, loss 0.010048732161521912\n",
      "tensor(0.0099, grad_fn=<MseLossBackward>)\n",
      "epoch 82, loss 0.009936471469700336\n",
      "tensor(0.0098, grad_fn=<MseLossBackward>)\n",
      "epoch 83, loss 0.009825565852224827\n",
      "tensor(0.0097, grad_fn=<MseLossBackward>)\n",
      "epoch 84, loss 0.00971585139632225\n",
      "tensor(0.0096, grad_fn=<MseLossBackward>)\n",
      "epoch 85, loss 0.009607315994799137\n",
      "tensor(0.0095, grad_fn=<MseLossBackward>)\n",
      "epoch 86, loss 0.009500079788267612\n",
      "tensor(0.0094, grad_fn=<MseLossBackward>)\n",
      "epoch 87, loss 0.009393977001309395\n",
      "tensor(0.0093, grad_fn=<MseLossBackward>)\n",
      "epoch 88, loss 0.009289084933698177\n",
      "tensor(0.0092, grad_fn=<MseLossBackward>)\n",
      "epoch 89, loss 0.0091853067278862\n",
      "tensor(0.0091, grad_fn=<MseLossBackward>)\n",
      "epoch 90, loss 0.009082794189453125\n",
      "tensor(0.0090, grad_fn=<MseLossBackward>)\n",
      "epoch 91, loss 0.008981353603303432\n",
      "tensor(0.0089, grad_fn=<MseLossBackward>)\n",
      "epoch 92, loss 0.008881086483597755\n",
      "tensor(0.0088, grad_fn=<MseLossBackward>)\n",
      "epoch 93, loss 0.008781897835433483\n",
      "tensor(0.0087, grad_fn=<MseLossBackward>)\n",
      "epoch 94, loss 0.008683846332132816\n",
      "tensor(0.0086, grad_fn=<MseLossBackward>)\n",
      "epoch 95, loss 0.008586812764406204\n",
      "tensor(0.0085, grad_fn=<MseLossBackward>)\n",
      "epoch 96, loss 0.00849094707518816\n",
      "tensor(0.0084, grad_fn=<MseLossBackward>)\n",
      "epoch 97, loss 0.008396124467253685\n",
      "tensor(0.0083, grad_fn=<MseLossBackward>)\n",
      "epoch 98, loss 0.008302362635731697\n",
      "tensor(0.0082, grad_fn=<MseLossBackward>)\n",
      "epoch 99, loss 0.008209669962525368\n"
     ]
    }
   ],
   "source": [
    "for epoch in range(epochs):\n",
    "    # Converting inputs and labels to Variable\n",
    "    if torch.cuda.is_available():\n",
    "        inputs = Variable(torch.from_numpy(x_train).cuda())\n",
    "        labels = Variable(torch.from_numpy(y_train).cuda())\n",
    "    else:\n",
    "        inputs = Variable(torch.from_numpy(x_train))\n",
    "        labels = Variable(torch.from_numpy(y_train))\n",
    "\n",
    "    # Clear gradient buffers because we don't want any gradient from previous epoch to carry forward, dont want to cummulate gradients\n",
    "    optimizer.zero_grad()\n",
    "\n",
    "    # get output from the model, given the inputs\n",
    "    outputs = model(inputs)\n",
    "\n",
    "    # get loss for the predicted output\n",
    "    loss = criterion(outputs, labels)\n",
    "    print(loss)\n",
    "    # get gradients w.r.t to parameters\n",
    "    loss.backward()\n",
    "\n",
    "    # update parameters\n",
    "    optimizer.step()\n",
    "\n",
    "    print('epoch {}, loss {}'.format(epoch, loss.item()))"
   ]
  },
  {
   "cell_type": "code",
   "execution_count": 12,
   "metadata": {
    "ExecuteTime": {
     "end_time": "2019-08-06T09:21:22.321914Z",
     "start_time": "2019-08-06T09:21:22.208024Z"
    }
   },
   "outputs": [
    {
     "name": "stdout",
     "output_type": "stream",
     "text": [
      "[[ 0.83145225]\n",
      " [ 2.8557248 ]\n",
      " [ 4.8799973 ]\n",
      " [ 6.9042697 ]\n",
      " [ 8.928542  ]\n",
      " [10.952815  ]\n",
      " [12.977087  ]\n",
      " [15.001359  ]\n",
      " [17.02563   ]\n",
      " [19.049904  ]\n",
      " [21.074177  ]]\n"
     ]
    },
    {
     "data": {
      "image/png": "[encoded data removed]",
      "text/plain": [
       "<Figure size 432x288 with 1 Axes>"
      ]
     },
     "metadata": {
      "needs_background": "light"
     },
     "output_type": "display_data"
    }
   ],
   "source": [
    "with torch.no_grad(): # we don't need gradients in the testing phase\n",
    "    if torch.cuda.is_available():\n",
    "        predicted = model(Variable(torch.from_numpy(x_train).cuda())).cpu().data.numpy()\n",
    "    else:\n",
    "        predicted = model(Variable(torch.from_numpy(x_train))).data.numpy()\n",
    "    print(predicted)\n",
    "\n",
    "plt.clf()\n",
    "plt.plot(x_train, y_train, 'go', label='True data', alpha=0.5)\n",
    "plt.plot(x_train, predicted, '--', label='Predictions', alpha=0.5)\n",
    "plt.legend(loc='best')\n",
    "plt.show()"
   ]
  },
  {
   "cell_type": "code",
   "execution_count": null,
   "metadata": {},
   "outputs": [],
   "source": []
  },
  {
   "cell_type": "code",
   "execution_count": null,
   "metadata": {},
   "outputs": [],
   "source": []
  }
 ],
 "metadata": {
  "kernelspec": {
   "display_name": "Python 3",
   "language": "python",
   "name": "python3"
  },
  "language_info": {
   "codemirror_mode": {
    "name": "ipython",
    "version": 3
   },
   "file_extension": ".py",
   "mimetype": "text/x-python",
   "name": "python",
   "nbconvert_exporter": "python",
   "pygments_lexer": "ipython3",
   "version": "3.7.3"
  },
  "latex_envs": {
   "LaTeX_envs_menu_present": true,
   "autoclose": false,
   "autocomplete": true,
   "bibliofile": "biblio.bib",
   "cite_by": "apalike",
   "current_citInitial": 1,
   "eqLabelWithNumbers": true,
   "eqNumInitial": 1,
   "hotkeys": {
    "equation": "Ctrl-E",
    "itemize": "Ctrl-I"
   },
   "labels_anchors": false,
   "latex_user_defs": false,
   "report_style_numbering": false,
   "user_envs_cfg": false
  },
  "toc": {
   "base_numbering": 1,
   "nav_menu": {},
   "number_sections": true,
   "sideBar": true,
   "skip_h1_title": false,
   "title_cell": "Table of Contents",
   "title_sidebar": "Contents",
   "toc_cell": false,
   "toc_position": {},
   "toc_section_display": true,
   "toc_window_display": false
  },
  "varInspector": {
   "cols": {
    "lenName": 16,
    "lenType": 16,
    "lenVar": 40
   },
   "kernels_config": {
    "python": {
     "delete_cmd_postfix": "",
     "delete_cmd_prefix": "del ",
     "library": "var_list.py",
     "varRefreshCmd": "print(var_dic_list())"
    },
    "r": {
     "delete_cmd_postfix": ") ",
     "delete_cmd_prefix": "rm(",
     "library": "var_list.r",
     "varRefreshCmd": "cat(var_dic_list()) "
    }
   },
   "types_to_exclude": [
    "module",
    "function",
    "builtin_function_or_method",
    "instance",
    "_Feature"
   ],
   "window_display": false
  }
 },
 "nbformat": 4,
 "nbformat_minor": 2
}
