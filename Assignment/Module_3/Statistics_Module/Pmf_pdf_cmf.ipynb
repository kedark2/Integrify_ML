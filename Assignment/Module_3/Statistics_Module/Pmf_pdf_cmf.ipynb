{
 "cells": [
  {
   "cell_type": "markdown",
   "metadata": {},
   "source": [
    "From 1.30, work in the same groups of 3.  \n",
    "\n",
    "Submission : One submission per group. \n",
    "\n",
    "Submission deadline : 23.07 at 10 AM. \n",
    "\n",
    " \n",
    "\n",
    "Questions  :  \n",
    "\n",
    "1. [Stat, Python] How to create a PDF in Python? Remember we introduced Probabilistic Programming. One of the most popular libraries for this is PYMC3. You may look into here: https://pymc3.readthedocs.io/en/latest/prob_dists.html \n",
    "\n",
    "2. [Stat, Python] How to create a PMF in Python? \n",
    "\n",
    "3. [Stat, Python] How to create a CDF in Python? \n",
    "\n",
    " \n",
    "4. [Stat, Python] Create a function that converts any list into a PMF.  \n",
    "\n",
    "a. The function should return a dictionary with keys as the data values and values as the corresponding PMF values \n",
    "\n",
    "b. The function has to be implemented in 2 ways: \n",
    "\n",
    "i. Using some type of sum operator \n",
    "\n",
    "ii. Using the len-operator (Hint : use Counter(data) ) \n",
    "\n",
    "5. [Pandas, Stat, Python] Plot the resulting PMF using Pandas inbuilt plot command with 'bar' parameter. Make sure that the Series passed is sorted by the index. Use a decorator to make sure that is the case. If you want to recollect what is a decorator, you may refer here \n",
    "\n",
    "6. [Functional Programming] Using the given lambda expression, turn the array into a CDF. \n",
    "\n",
    "7. [Stat] Analyze the percentiles of the array used in point 3 using this function. \n",
    "\n",
    "a. What do you notice when you compare the percentiles with the CDF? \n",
    "\n",
    "8. [Functional Programming] Define a partial function that always find the 25% of a given array (first quartile). "
   ]
  },
  {
   "cell_type": "markdown",
   "metadata": {
    "ExecuteTime": {
     "end_time": "2019-07-22T08:53:02.755447Z",
     "start_time": "2019-07-22T08:53:02.746454Z"
    }
   },
   "source": [
    "***Questiion 4 ***\n",
    "\n",
    "\n",
    "\n",
    "4.[Stat, Python] Create a function that converts any list into a PMF.\n",
    "\n",
    "\n",
    "a. The function should return a dictionary with keys as the data values and values as the corresponding PMF values\n",
    "\n",
    "b. The function has to be implemented in 2 ways1\n",
    "\n",
    "i. Using some type of sum operator\n",
    "\n",
    "ii. Using the len-operator (Hint : use Counter(data) )"
   ]
  },
  {
   "cell_type": "code",
   "execution_count": 38,
   "metadata": {
    "ExecuteTime": {
     "end_time": "2019-07-23T07:36:55.338384Z",
     "start_time": "2019-07-23T07:36:46.286961Z"
    }
   },
   "outputs": [
    {
     "name": "stdout",
     "output_type": "stream",
     "text": [
      "{3: 0.2962962962962963, 2: 0.4074074074074074, 4: 0.07407407407407407, 5: 0.1111111111111111, 6: 0.1111111111111111}\n"
     ]
    }
   ],
   "source": [
    "import pandas as pd\n",
    "import matplotlib.pyplot as plt\n",
    "def func():\n",
    "    # Create any random data\n",
    "    data = [3,2,3,4,2,3,5,2,2,3,3,5,2,2,5,6,2,2,2,3,6,6,2,4,3,2,3]\n",
    "\n",
    "    # Create a ditionary to store the counts\n",
    "    count = {}\n",
    "\n",
    "    # For each value in the data\n",
    "    for observation in data:\n",
    "        # a key, value pair, with the observation being the key\n",
    "        # and the value being +1\n",
    "        count [observation] = count.get(observation, 0)+1\n",
    "\n",
    "    probability_mass_function = {}\n",
    "    n = len(data)\n",
    "    # For each unique value,\n",
    "    for unique_value, count in count.items():\n",
    "        #Normalize the count by dividing by the length of daya, add to the PM dictionary\n",
    "        probability_mass_function[unique_value] = count/n\n",
    "    print(probability_mass_function)\n",
    "func()"
   ]
  },
  {
   "cell_type": "markdown",
   "metadata": {},
   "source": [
    "***Questiion 4 & 5***\n",
    "\n",
    "4.[Stat, Python] Create a function that converts any list into a PMF.\n",
    "\n",
    "a. The function should return a dictionary with keys as the data values and values as the corresponding PMF values\n",
    "\n",
    "b. The function has to be implemented in 2 ways1\n",
    "\n",
    "i. Using some type of sum operator\n",
    "\n",
    "ii. Using the len-operator (Hint : use Counter(data) )\n",
    "\n",
    "5.Plot the resulting PMF using Pandas inbuilt plot command with 'bar' parameter. Make sure that the Series passed is sorted by the index. Use a decorator\n"
   ]
  },
  {
   "cell_type": "code",
   "execution_count": 59,
   "metadata": {
    "ExecuteTime": {
     "end_time": "2019-07-23T07:56:44.394749Z",
     "start_time": "2019-07-23T07:56:44.378759Z"
    }
   },
   "outputs": [
    {
     "name": "stdout",
     "output_type": "stream",
     "text": [
      "{2: 0.4074074074074074, 3: 0.2962962962962963, 4: 0.07407407407407407, 5: 0.1111111111111111, 6: 0.1111111111111111}\n"
     ]
    }
   ],
   "source": [
    "\n",
    "from collections import Counter\n",
    "def sort(fn):\n",
    "    def inner(*args,**kwargs):\n",
    "        return fn(sorted(*args),**kwargs)\n",
    "    return inner\n",
    "@sort\n",
    "def pmf(series):\n",
    "    n = len(series)\n",
    "    d = {}\n",
    "    counts = Counter(series)\n",
    "    for _, key in enumerate(counts):\n",
    "        d[key] = counts[key]/n\n",
    "    return d\n",
    "arr=[3,2,3,4,2,3,5,2,2,3,3,5,2,2,5,6,2,2,2,3,6,6,2,4,3,2,3]\n",
    "d=pmf(arr)\n",
    "print(d)"
   ]
  },
  {
   "cell_type": "code",
   "execution_count": 50,
   "metadata": {
    "ExecuteTime": {
     "end_time": "2019-07-23T07:46:45.219843Z",
     "start_time": "2019-07-23T07:46:45.207854Z"
    }
   },
   "outputs": [
    {
     "data": {
      "text/html": [
       "<div>\n",
       "<style scoped>\n",
       "    .dataframe tbody tr th:only-of-type {\n",
       "        vertical-align: middle;\n",
       "    }\n",
       "\n",
       "    .dataframe tbody tr th {\n",
       "        vertical-align: top;\n",
       "    }\n",
       "\n",
       "    .dataframe thead th {\n",
       "        text-align: right;\n",
       "    }\n",
       "</style>\n",
       "<table border=\"1\" class=\"dataframe\">\n",
       "  <thead>\n",
       "    <tr style=\"text-align: right;\">\n",
       "      <th></th>\n",
       "      <th>0</th>\n",
       "    </tr>\n",
       "  </thead>\n",
       "  <tbody>\n",
       "    <tr>\n",
       "      <th>2</th>\n",
       "      <td>0.407407</td>\n",
       "    </tr>\n",
       "    <tr>\n",
       "      <th>3</th>\n",
       "      <td>0.296296</td>\n",
       "    </tr>\n",
       "    <tr>\n",
       "      <th>4</th>\n",
       "      <td>0.074074</td>\n",
       "    </tr>\n",
       "    <tr>\n",
       "      <th>5</th>\n",
       "      <td>0.111111</td>\n",
       "    </tr>\n",
       "    <tr>\n",
       "      <th>6</th>\n",
       "      <td>0.111111</td>\n",
       "    </tr>\n",
       "  </tbody>\n",
       "</table>\n",
       "</div>"
      ],
      "text/plain": [
       "          0\n",
       "2  0.407407\n",
       "3  0.296296\n",
       "4  0.074074\n",
       "5  0.111111\n",
       "6  0.111111"
      ]
     },
     "execution_count": 50,
     "metadata": {},
     "output_type": "execute_result"
    }
   ],
   "source": [
    "df=pd.DataFrame.from_dict(d,orient=\"index\")\n",
    "df.head()\n",
    "\n"
   ]
  },
  {
   "cell_type": "code",
   "execution_count": 51,
   "metadata": {
    "ExecuteTime": {
     "end_time": "2019-07-23T07:46:51.886465Z",
     "start_time": "2019-07-23T07:46:51.616632Z"
    }
   },
   "outputs": [
    {
     "data": {
      "text/plain": [
       "<matplotlib.axes._subplots.AxesSubplot at 0x21e557ad438>"
      ]
     },
     "execution_count": 51,
     "metadata": {},
     "output_type": "execute_result"
    },
    {
     "data": {
      "image/png": "[encoded data removed]",
      "text/plain": [
       "<Figure size 432x288 with 1 Axes>"
      ]
     },
     "metadata": {
      "needs_background": "light"
     },
     "output_type": "display_data"
    }
   ],
   "source": [
    "df.plot(kind=\"bar\")"
   ]
  },
  {
   "cell_type": "markdown",
   "metadata": {},
   "source": [
    "6.[Functional Programming] Using the given lambda expression, turn the array into a CDF."
   ]
  },
  {
   "cell_type": "code",
   "execution_count": 57,
   "metadata": {
    "ExecuteTime": {
     "end_time": "2019-07-23T07:55:21.836157Z",
     "start_time": "2019-07-23T07:55:20.969672Z"
    }
   },
   "outputs": [
    {
     "name": "stdout",
     "output_type": "stream",
     "text": [
      "[0.36969318 0.64254059 0.85220234 ... 0.15999431 0.30723771 0.05061375]\n"
     ]
    },
    {
     "data": {
      "text/plain": [
       "<matplotlib.axes._subplots.AxesSubplot at 0x21e57619c50>"
      ]
     },
     "execution_count": 57,
     "metadata": {},
     "output_type": "execute_result"
    },
    {
     "data": {
      "image/png": "[encoded data removed]",
      "text/plain": [
       "<Figure size 432x288 with 1 Axes>"
      ]
     },
     "metadata": {
      "needs_background": "light"
     },
     "output_type": "display_data"
    }
   ],
   "source": [
    "import scipy\n",
    "import seaborn as sns\n",
    "import matplotlib.pyplot as plt\n",
    "\n",
    "\n",
    "# generate samples from normal distribution (discrete data)\n",
    "data = np.random.randn(4000)\n",
    "f = lambda x: scipy.stats.norm.cdf(x)\n",
    "print(f(data))\n",
    "sns.lineplot(x=data,y=f(data))"
   ]
  },
  {
   "cell_type": "code",
   "execution_count": null,
   "metadata": {},
   "outputs": [],
   "source": []
  }
 ],
 "metadata": {
  "kernelspec": {
   "display_name": "Python 3",
   "language": "python",
   "name": "python3"
  },
  "language_info": {
   "codemirror_mode": {
    "name": "ipython",
    "version": 3
   },
   "file_extension": ".py",
   "mimetype": "text/x-python",
   "name": "python",
   "nbconvert_exporter": "python",
   "pygments_lexer": "ipython3",
   "version": "3.7.3"
  },
  "toc": {
   "base_numbering": 1,
   "nav_menu": {},
   "number_sections": true,
   "sideBar": true,
   "skip_h1_title": false,
   "title_cell": "Table of Contents",
   "title_sidebar": "Contents",
   "toc_cell": false,
   "toc_position": {},
   "toc_section_display": true,
   "toc_window_display": false
  },
  "varInspector": {
   "cols": {
    "lenName": 16,
    "lenType": 16,
    "lenVar": 40
   },
   "kernels_config": {
    "python": {
     "delete_cmd_postfix": "",
     "delete_cmd_prefix": "del ",
     "library": "var_list.py",
     "varRefreshCmd": "print(var_dic_list())"
    },
    "r": {
     "delete_cmd_postfix": ") ",
     "delete_cmd_prefix": "rm(",
     "library": "var_list.r",
     "varRefreshCmd": "cat(var_dic_list()) "
    }
   },
   "position": {
    "height": "421.719px",
    "left": "824.813px",
    "right": "20px",
    "top": "37.0085px",
    "width": "350px"
   },
   "types_to_exclude": [
    "module",
    "function",
    "builtin_function_or_method",
    "instance",
    "_Feature"
   ],
   "window_display": false
  }
 },
 "nbformat": 4,
 "nbformat_minor": 2
}
