{
 "cells": [
  {
   "cell_type": "markdown",
   "metadata": {},
   "source": [
    "## Functions"
   ]
  },
  {
   "cell_type": "code",
   "execution_count": 6,
   "metadata": {
    "ExecuteTime": {
     "end_time": "2019-07-09T12:29:08.155546Z",
     "start_time": "2019-07-09T12:29:07.940909Z"
    }
   },
   "outputs": [],
   "source": [
    "import pandas as pd\n",
    "import numpy as np\n",
    "from functools import reduce"
   ]
  },
  {
   "cell_type": "code",
   "execution_count": 7,
   "metadata": {
    "ExecuteTime": {
     "end_time": "2019-07-09T12:29:08.325175Z",
     "start_time": "2019-07-09T12:29:08.322603Z"
    }
   },
   "outputs": [],
   "source": [
    "lst = [1,4,5,6,7,8,9,11]"
   ]
  },
  {
   "cell_type": "code",
   "execution_count": 17,
   "metadata": {
    "ExecuteTime": {
     "end_time": "2019-07-09T13:55:49.463960Z",
     "start_time": "2019-07-09T13:55:49.457456Z"
    }
   },
   "outputs": [
    {
     "name": "stdout",
     "output_type": "stream",
     "text": [
      "[[2, 8, 10, 12, 14, 16], ([4, 6, 8], [1, 5, 7]), 8]\n"
     ]
    }
   ],
   "source": [
    "## Creating list of functions on list\n",
    "def labmda_fun(lst):\n",
    "    return list(map(lambda x:x*2,lst))\n",
    "\n",
    "def sqare_of_int(num):\n",
    "    return num**2\n",
    "\n",
    "def filter_fun(lst):\n",
    "    even_num = list(filter(lambda x: x %2 == 0, lst))\n",
    "    odd_num = list(filter(lambda x : x%2 != 0, lst))\n",
    "    return (even_num, odd_num)\n",
    "    #print('Even numbers are {},odd numbers are {}'.format(even_num,odd_num))\n",
    "    \n",
    "def reduce_fun(lst):\n",
    "    #print('Greatest num in list is {}'.format(reduce(lambda x,y : x if x>y else y,lst)))\n",
    "    return reduce(lambda x,y : x if x>y else y,lst)\n",
    "         \n",
    "squares = map(sqare_of_int, lst)\n",
    "#print('Squares of numbers are{}'.format(list(squares)))\n",
    "\n",
    "## Creating a list of functions\n",
    "fun = [labmda_fun,filter_fun,reduce_fun]\n",
    "ret_val = list(map(lambda x: x(lst),fun))\n",
    "\n",
    "#new_way = list(map(lambda x,y : y(x),lst,fun))\n",
    "print(ret_val)\n",
    "\n",
    "#filter_fun(lst)\n",
    "#reduce_fun(lst)\n",
    "#labmda_fun(lst)"
   ]
  },
  {
   "cell_type": "code",
   "execution_count": 13,
   "metadata": {
    "ExecuteTime": {
     "end_time": "2019-07-09T13:42:44.538914Z",
     "start_time": "2019-07-09T13:42:44.533217Z"
    }
   },
   "outputs": [
    {
     "data": {
      "text/plain": [
       "[1, 256]"
      ]
     },
     "execution_count": 13,
     "metadata": {},
     "output_type": "execute_result"
    }
   ],
   "source": [
    "values = [1,4,5,6,7,8]\n",
    "def square(l):\n",
    "    return l**2\n",
    "\n",
    "def cube(l):\n",
    "    return l**3\n",
    "\n",
    "cube = lambda x : x**3\n",
    "fourth = lambda y : y**4\n",
    "\n",
    "fl = [cube,fourth]\n",
    "result = list(map(lambda x,y : y(x),values,fl))\n",
    "result"
   ]
  },
  {
   "cell_type": "markdown",
   "metadata": {},
   "source": [
    "## Reduce Function to find the GCD"
   ]
  },
  {
   "cell_type": "code",
   "execution_count": 13,
   "metadata": {},
   "outputs": [],
   "source": [
    "lst3 = [2,4,6,8,10]"
   ]
  },
  {
   "cell_type": "code",
   "execution_count": 15,
   "metadata": {},
   "outputs": [
    {
     "name": "stdout",
     "output_type": "stream",
     "text": [
      "GCD of the given list is 2\n"
     ]
    }
   ],
   "source": [
    "def gcd(a,b):\n",
    "    if a%b == 0:\n",
    "        return b\n",
    "    return gcd(b, a%b)\n",
    "\n",
    "gcdnum2 = reduce(gcd,lst3)\n",
    "print('GCD of the given list is {}'.format(gcdnum2))"
   ]
  },
  {
   "cell_type": "markdown",
   "metadata": {},
   "source": [
    "## GroupBY"
   ]
  },
  {
   "cell_type": "markdown",
   "metadata": {},
   "source": [
    "Write a function groupby_demonstrator that takes as a list of tuples as an input (arg data) as well as boolean argument (verify_sorted). If verify_sorted is true, the list is sorted by the first key (0-th tuple element), otherwise it is not sorted.\n",
    "The function should print out key-value pairs by groups (as output from Python groupby). The print statements between groups should have an empty line. Print statements inside-group should not have empty lines in between (just new lines between records).\n",
    "\n",
    "Add a decorator ‘ensure_sourted_grouper’ that overrides the grouping, by making sure that the list is sorted when an argument ‘verify_sorted’ = True is passed. Otherwise, “You didn’t enforce the order” is printed to the console."
   ]
  },
  {
   "cell_type": "code",
   "execution_count": 26,
   "metadata": {},
   "outputs": [
    {
     "name": "stdout",
     "output_type": "stream",
     "text": [
      "{'verify_sorted': True}\n",
      "animal\n",
      "\n",
      "[('animal', 'bear'), ('animal', 'duck')]\n",
      "plant\n",
      "\n",
      "[('plant', 'cactus'), ('plant', 'rose')]\n",
      "vehicle\n",
      "\n",
      "[('vehicle', 'speed boat'), ('vehicle', 'school bus')]\n",
      "<function ensure_authorized.<locals>.wrapper_calling_fun at 0x0000011D6544A048>\n"
     ]
    }
   ],
   "source": [
    "from itertools import groupby\n",
    "def ensure_authorized(fun):\n",
    "    def wrapper_calling_fun(*args,**kwargs):\n",
    "        print(kwargs)\n",
    "       #print(\"hello\")\n",
    "        if kwargs.get(\"verify_sorted\")==True:\n",
    "            \n",
    "           #print(\"this is true\")\n",
    "            sorted_value=sorted(*args,key=lambda x:x[0])\n",
    "            fun(sorted_value,**kwargs)\n",
    "        else :\n",
    "            \n",
    "            print ('You didn’t enforce the order')\n",
    "    return wrapper_calling_fun\n",
    "@ensure_authorized\n",
    "def groupby_demo(arg,verify_sorted):\n",
    "   #if verify_sorted == True:\n",
    "       #data= sorted(arg,key=lambda tup: tup[0])\n",
    "       for k,g in groupby(arg,key=lambda tup: tup[0]):\n",
    "           print (k,list(g), sep='\\n\\n')\n",
    "\n",
    "       #print(\"An example of{key} is {value}\".format(*group), sep='\\n\\n')\n",
    "\n",
    "   #else:\n",
    "       #print(arg)\n",
    "\n",
    "groupby_demo([(\"animal\", \"bear\"), (\"animal\", \"duck\"), (\"plant\", \"cactus\"), (\"vehicle\", \"speed boat\"), (\"vehicle\", \"school bus\"),(\"plant\", \"rose\")], verify_sorted=True )\n",
    "\n",
    "print(groupby_demo)"
   ]
  },
  {
   "cell_type": "code",
   "execution_count": null,
   "metadata": {},
   "outputs": [],
   "source": []
  },
  {
   "cell_type": "code",
   "execution_count": null,
   "metadata": {},
   "outputs": [],
   "source": []
  },
  {
   "cell_type": "code",
   "execution_count": null,
   "metadata": {},
   "outputs": [],
   "source": []
  }
 ],
 "metadata": {
  "kernelspec": {
   "display_name": "Python 3",
   "language": "python",
   "name": "python3"
  },
  "language_info": {
   "codemirror_mode": {
    "name": "ipython",
    "version": 3
   },
   "file_extension": ".py",
   "mimetype": "text/x-python",
   "name": "python",
   "nbconvert_exporter": "python",
   "pygments_lexer": "ipython3",
   "version": "3.7.3"
  },
  "toc": {
   "base_numbering": 1,
   "nav_menu": {},
   "number_sections": true,
   "sideBar": true,
   "skip_h1_title": false,
   "title_cell": "Table of Contents",
   "title_sidebar": "Contents",
   "toc_cell": false,
   "toc_position": {},
   "toc_section_display": true,
   "toc_window_display": false
  },
  "varInspector": {
   "cols": {
    "lenName": 16,
    "lenType": 16,
    "lenVar": 40
   },
   "kernels_config": {
    "python": {
     "delete_cmd_postfix": "",
     "delete_cmd_prefix": "del ",
     "library": "var_list.py",
     "varRefreshCmd": "print(var_dic_list())"
    },
    "r": {
     "delete_cmd_postfix": ") ",
     "delete_cmd_prefix": "rm(",
     "library": "var_list.r",
     "varRefreshCmd": "cat(var_dic_list()) "
    }
   },
   "types_to_exclude": [
    "module",
    "function",
    "builtin_function_or_method",
    "instance",
    "_Feature"
   ],
   "window_display": false
  }
 },
 "nbformat": 4,
 "nbformat_minor": 2
}
